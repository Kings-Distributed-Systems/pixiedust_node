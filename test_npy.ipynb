{
 "cells": [
  {
   "cell_type": "code",
   "execution_count": 1,
   "metadata": {},
   "outputs": [
    {
     "name": "stdout",
     "output_type": "stream",
     "text": [
      "Pixiedust database opened successfully\n"
     ]
    },
    {
     "data": {
      "text/html": [
       "\n",
       "        <div style=\"margin:10px\">\n",
       "            <a href=\"https://github.com/ibm-watson-data-lab/pixiedust\" target=\"_new\">\n",
       "                <img src=\"https://github.com/ibm-watson-data-lab/pixiedust/raw/master/docs/_static/pd_icon32.png\" style=\"float:left;margin-right:10px\"/>\n",
       "            </a>\n",
       "            <span>Pixiedust version 1.1.18</span>\n",
       "        </div>\n",
       "        "
      ],
      "text/plain": [
       "<IPython.core.display.HTML object>"
      ]
     },
     "metadata": {},
     "output_type": "display_data"
    },
    {
     "name": "stdout",
     "output_type": "stream",
     "text": [
      "pixiedust_node 0.2.5 started. Cells starting '%%node' may contain Node.js code.\n",
      "\"Testing _np_home.\"\n",
      "\"Sending over _np_home.\"\n",
      "_np_home has been updated!\n",
      "\"Testing _np_home.\"\n",
      "\"Testing _np_home.\""
     ]
    },
    {
     "data": {
      "text/html": [
       "\n",
       "            <div style=\"margin:10px\"> \n",
       "            <a href=\"https://github.com/pixiedust/pixiedust_node\" target=\"_new\"> \n",
       "            <img src=\"https://github.com/pixiedust/pixiedust_node/raw/master/docs/_images/pdn_icon32.png\" style=\"float:left;margin-right:10px\"/> \n",
       "            </a> \n",
       "            <span>Pixiedust Node.js</span> \n",
       "            </div> \n"
      ],
      "text/plain": [
       "<IPython.core.display.HTML object>"
      ]
     },
     "metadata": {},
     "output_type": "display_data"
    },
    {
     "name": "stdout",
     "output_type": "stream",
     "text": [
      "\n",
      "\"Testing _np_home.\"\n",
      "/home/mgasmallah/.nvm/versions/node/v10.20.1/bin/npm install -s github:Kings-Distributed-Systems/npy-js\n",
      "+ npy-js@1.0.0\n",
      "updated 1 package and audited 1299 packages in 3.714s\n",
      "16 packages are looking for funding\n",
      "run `npm fund` for details\n",
      "found 24 vulnerabilities (8 low, 16 moderate)\n",
      "run `npm audit fix` to fix them, or `npm audit` for details\n",
      "\"Testing _np_home.\"\n",
      "\"Testing _np_home.\"\n",
      "\"Testing _np_home.\"\n",
      "\"Testing _np_home.\"\n"
     ]
    }
   ],
   "source": [
    "import numpy as np\n",
    "import pixiedust_node"
   ]
  },
  {
   "cell_type": "code",
   "execution_count": null,
   "metadata": {},
   "outputs": [],
   "source": [
    "a = np.random.randn(6000, 28,28).astype(np.float32)\n",
    "print(a[0][0][0], a.dtype)"
   ]
  },
  {
   "cell_type": "code",
   "execution_count": null,
   "metadata": {
    "scrolled": true
   },
   "outputs": [],
   "source": [
    "%%node\n",
    "console.log(a.shape);\n",
    "console.log(a.dtype);\n",
    "console.log(a.typedArray.length);\n",
    "console.log(a.typedArray[0]);\n",
    "a.typedArray[0] = 1.00000;"
   ]
  },
  {
   "cell_type": "code",
   "execution_count": null,
   "metadata": {},
   "outputs": [],
   "source": [
    "print(a[0][0][0]) \n",
    "a[0][0][0] = 1.2"
   ]
  },
  {
   "cell_type": "code",
   "execution_count": null,
   "metadata": {},
   "outputs": [],
   "source": [
    "%%node\n",
    "var b = a;"
   ]
  },
  {
   "cell_type": "code",
   "execution_count": null,
   "metadata": {},
   "outputs": [],
   "source": [
    "print(b[0][0][0])"
   ]
  },
  {
   "cell_type": "code",
   "execution_count": null,
   "metadata": {},
   "outputs": [],
   "source": [
    "%%node\n",
    "await new Promise((resolve, reject)=>{console.log(\"Hello world\");resolve()});"
   ]
  },
  {
   "cell_type": "code",
   "execution_count": null,
   "metadata": {},
   "outputs": [],
   "source": [
    "a = np.random.randn(60000,784).reshape(-1).tolist()"
   ]
  },
  {
   "cell_type": "code",
   "execution_count": null,
   "metadata": {},
   "outputs": [],
   "source": [
    "%%node\n",
    "let bb = [...Array(1000000000).keys()]"
   ]
  },
  {
   "cell_type": "code",
   "execution_count": null,
   "metadata": {},
   "outputs": [],
   "source": [
    "%%node\n",
    "print(\"Hello\")"
   ]
  },
  {
   "cell_type": "code",
   "execution_count": 2,
   "metadata": {},
   "outputs": [
    {
     "name": "stdout",
     "output_type": "stream",
     "text": [
      "\"Testing _np_home.\"\n",
      "\"Testing a.\"\n",
      "\"Sending over a.\"\n",
      "a has been updated!\n",
      "\"Testing _np_home.\"\n",
      "\"Testing a.\"\n",
      "\"Testing _np_home.\"\n",
      "\"Testing a.\"\n",
      "\"Testing _np_home.\"\n",
      "\"Testing a.\"\n"
     ]
    }
   ],
   "source": [
    "%%node\n",
    "var a = 'hello';"
   ]
  },
  {
   "cell_type": "code",
   "execution_count": 3,
   "metadata": {},
   "outputs": [
    {
     "name": "stdout",
     "output_type": "stream",
     "text": [
      "hello\n"
     ]
    }
   ],
   "source": [
    "print(a)"
   ]
  },
  {
   "cell_type": "code",
   "execution_count": null,
   "metadata": {},
   "outputs": [],
   "source": []
  }
 ],
 "metadata": {
  "kernelspec": {
   "display_name": "Python 3",
   "language": "python",
   "name": "python3"
  },
  "language_info": {
   "codemirror_mode": {
    "name": "ipython",
    "version": 3
   },
   "file_extension": ".py",
   "mimetype": "text/x-python",
   "name": "python",
   "nbconvert_exporter": "python",
   "pygments_lexer": "ipython3",
   "version": "3.6.10"
  }
 },
 "nbformat": 4,
 "nbformat_minor": 4
}
